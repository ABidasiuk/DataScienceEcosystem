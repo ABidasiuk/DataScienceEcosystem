{
 "cells": [
  {
   "cell_type": "markdown",
   "id": "8fad5e04",
   "metadata": {},
   "source": [
    "# Data Science Tools and Ecosystem"
   ]
  },
  {
   "cell_type": "markdown",
   "id": "895a5225",
   "metadata": {},
   "source": [
    "### In this notebook, Data Science Tools and Ecosystem are summarized."
   ]
  },
  {
   "cell_type": "markdown",
   "id": "e7bcf63f",
   "metadata": {},
   "source": [
    "#### Objectives covered by Jupyter Notebook: "
   ]
  },
  {
   "cell_type": "markdown",
   "id": "1c7ae01d",
   "metadata": {},
   "source": [
    "* Jupyter notebooks are used in Data Science to record experiments and projects.\n",
    "* Jupyter implements a two-process model with a core and a client.\n",
    "* The Jupyter architecture uses the NB conversion tool to convert files to other formats.\n",
    "* The Jupyter Notebook server is responsible for saving and loading notebooks."
   ]
  },
  {
   "cell_type": "markdown",
   "id": "bf259315",
   "metadata": {},
   "source": [
    "### Objectives:"
   ]
  },
  {
   "cell_type": "markdown",
   "id": "f8a9b5a7",
   "metadata": {},
   "source": [
    "* Python\n",
    "* R\n",
    "* SQL\n",
    "* Julia\n",
    "* Scala\n",
    "* Swift\n"
   ]
  },
  {
   "cell_type": "markdown",
   "id": "7eaa4b2e",
   "metadata": {},
   "source": [
    "| Author |\n",
    "| :- | \n",
    "| Andrii Bidasiuk |\n"
   ]
  },
  {
   "cell_type": "markdown",
   "id": "96e60d7d",
   "metadata": {},
   "source": [
    "Some of the popular languages that Data Scientists use are:"
   ]
  },
  {
   "cell_type": "markdown",
   "id": "c7c85157",
   "metadata": {},
   "source": [
    "1. Python\n",
    "2. JavaScript\n",
    "3. C#\n",
    "4. Java"
   ]
  },
  {
   "cell_type": "markdown",
   "id": "e3d1fca7",
   "metadata": {},
   "source": [
    "Some of the commonly used libraries used by Data Scientists include:"
   ]
  },
  {
   "cell_type": "markdown",
   "id": "b6a64534",
   "metadata": {},
   "source": [
    "* Numpy\n",
    "* Pandas\n",
    "* Matplotlib\n",
    "* Scikit-learn\n",
    "* SciPy \n",
    "* PyTorch\n",
    "* Keras \n",
    "* Seaborn\n",
    "* Plotly\n",
    "* SimpleITK\n",
    "* Statsmodel\n",
    "* Scrapy\n",
    "* Pillow"
   ]
  },
  {
   "cell_type": "markdown",
   "id": "94bb9829",
   "metadata": {},
   "source": [
    "| Data Science Tools |   |   |\n",
    "| :- | -: | :-: |\n",
    "| Pentaho BI | JasperReports | Talend Open Studio\n"
   ]
  },
  {
   "cell_type": "markdown",
   "id": "abedb015",
   "metadata": {},
   "source": [
    "### Below are a few examples of evaluating arithmetic expressions in Python"
   ]
  },
  {
   "cell_type": "markdown",
   "id": "848a88d4",
   "metadata": {},
   "source": [
    "$$\"(3*4)+5\"$$"
   ]
  },
  {
   "cell_type": "markdown",
   "id": "db62a73f",
   "metadata": {},
   "source": [
    "> This a simple arithmetic expression to mutiply then add integers"
   ]
  },
  {
   "cell_type": "code",
   "execution_count": 22,
   "id": "f8e7a183",
   "metadata": {},
   "outputs": [
    {
     "name": "stdout",
     "output_type": "stream",
     "text": [
      "17\n"
     ]
    }
   ],
   "source": [
    "print(((3*4)+5))"
   ]
  },
  {
   "cell_type": "markdown",
   "id": "c2af7a2b",
   "metadata": {},
   "source": [
    "## Convert 200 minutes to hours\n",
    "$$\"200/60=Hours\"$$\n",
    "> This will convert 200 minutes to hours by diving by 60"
   ]
  },
  {
   "cell_type": "code",
   "execution_count": 23,
   "id": "1528d61d",
   "metadata": {},
   "outputs": [
    {
     "name": "stdout",
     "output_type": "stream",
     "text": [
      "3.3333333333333335\n"
     ]
    }
   ],
   "source": [
    "print(200/60)"
   ]
  },
  {
   "cell_type": "code",
   "execution_count": null,
   "id": "4947cb61",
   "metadata": {},
   "outputs": [],
   "source": []
  }
 ],
 "metadata": {
  "kernelspec": {
   "display_name": "Python 3 (ipykernel)",
   "language": "python",
   "name": "python3"
  },
  "language_info": {
   "codemirror_mode": {
    "name": "ipython",
    "version": 3
   },
   "file_extension": ".py",
   "mimetype": "text/x-python",
   "name": "python",
   "nbconvert_exporter": "python",
   "pygments_lexer": "ipython3",
   "version": "3.11.4"
  }
 },
 "nbformat": 4,
 "nbformat_minor": 5
}
